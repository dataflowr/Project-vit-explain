{
 "cells": [
  {
   "attachments": {},
   "cell_type": "markdown",
   "metadata": {},
   "source": [
    "# Notebook for performance evaluation of techniques"
   ]
  },
  {
   "attachments": {},
   "cell_type": "markdown",
   "metadata": {},
   "source": [
    "**We have four methods:**\n",
    "\n",
    "- Raw Attention (seems to be only mean of weights from input embeddings on first layer).\n",
    "- Attention flow (best in final layer).\n",
    "- Attention Rollout (best in final layer).\n",
    "- Gradient Attention Rollout (best in final layer (most likely)).\n",
    "\n",
    "**We have two possible methods for metric evaluation:**\n",
    "\n",
    "- Blank-out -> generate black spots and look at drop in accuracy.\n",
    "- Gradient input -> **(?)**.\n",
    "\n",
    "**Pipeline for evaluating models:**\n",
    "\n",
    "- Select $N$ images for study.\n",
    "- For each image (also can be done in multiple layers, but time constraint): \n",
    "    - Compute its raw attention, attention flow, rollout, and gradient rollout.\n",
    "    - Compute the blank-out and gradient input.\n",
    "    - Each will yield a vector of size $n_{embedding}$.\n",
    "    - Compute Spearman rank correlation between them and store it\n",
    "\n",
    "We should end up with a table of size $n_{images} \\times n_{methods}$. It suffices to compute mean and standard deviation for each method."
   ]
  },
  {
   "cell_type": "code",
   "execution_count": 1,
   "metadata": {},
   "outputs": [
    {
     "name": "stderr",
     "output_type": "stream",
     "text": [
      "/Data/ml_env/miniconda3/envs/venv_ml_env/lib/python3.9/site-packages/torchvision/io/image.py:13: UserWarning: Failed to load image Python extension: 'libc10_cuda.so: cannot open shared object file: No such file or directory'If you don't plan on using image functionality from `torchvision.io`, you can ignore this warning. Otherwise, there might be something wrong with your environment. Did you have `libjpeg` or `libpng` installed before building `torchvision` from source?\n",
      "  warn(\n",
      "/Data/ml_env/miniconda3/envs/venv_ml_env/lib/python3.9/site-packages/tqdm/auto.py:21: TqdmWarning: IProgress not found. Please update jupyter and ipywidgets. See https://ipywidgets.readthedocs.io/en/stable/user_install.html\n",
      "  from .autonotebook import tqdm as notebook_tqdm\n"
     ]
    }
   ],
   "source": [
    "import torch\n",
    "from PIL import Image\n",
    "import numpy\n",
    "import sys\n",
    "from torchvision import transforms\n",
    "import numpy as np\n",
    "import cv2\n",
    "import matplotlib.pyplot as plt\n",
    "\n",
    "from vit_rollout import VITAttentionRollout\n",
    "from vit_grad_rollout import VITAttentionGradRollout\n",
    "from vit_flow import VITAttentionFlow\n",
    "\n",
    "import copy\n",
    "import requests\n",
    "import torch.nn.functional as F\n",
    "\n",
    "from tqdm import tqdm"
   ]
  },
  {
   "cell_type": "code",
   "execution_count": 2,
   "metadata": {},
   "outputs": [],
   "source": [
    "DEVICE = 'cpu'"
   ]
  },
  {
   "cell_type": "code",
   "execution_count": 3,
   "metadata": {},
   "outputs": [
    {
     "name": "stderr",
     "output_type": "stream",
     "text": [
      "Using cache found in /users/eleves-a/2018/nicolas.lopes/.cache/torch/hub/facebookresearch_deit_main\n"
     ]
    },
    {
     "name": "stdout",
     "output_type": "stream",
     "text": [
      "\n"
     ]
    }
   ],
   "source": [
    "model = torch.hub.load('facebookresearch/deit:main', \n",
    "        'deit_tiny_patch16_224', pretrained=True)\n",
    "model.eval()\n",
    "model.to(DEVICE)\n",
    "print()"
   ]
  },
  {
   "cell_type": "code",
   "execution_count": 4,
   "metadata": {},
   "outputs": [],
   "source": [
    "def preprocess_image(image_path, transform):\n",
    "    img = Image.open(image_path)\n",
    "    input_tensor = transform(img).unsqueeze(0)\n",
    "    return input_tensor.to(DEVICE)\n",
    "\n",
    "def get_prediction(scores):\n",
    "    '''Gets the index of max prob and the prob\n",
    "    '''\n",
    "    h_x = F.softmax(scores, dim=1).data.squeeze()\n",
    "    probs, idx = h_x.sort(0, True)\n",
    "    # output the prediction\n",
    "    return idx[0].item(), probs[0].item()\n",
    "\n",
    "# idx, prob = get_prediction(scores)"
   ]
  },
  {
   "attachments": {},
   "cell_type": "markdown",
   "metadata": {},
   "source": [
    "# Generating Attention Rollout masks"
   ]
  },
  {
   "cell_type": "code",
   "execution_count": 5,
   "metadata": {},
   "outputs": [],
   "source": [
    "file_attention_rollout = 'attention_rollout.txt'\n",
    "file_attention_grad_rollout = 'attention_grad_rollout.txt'\n",
    "file_attention_flow = 'attention_flow.txt'\n",
    "\n",
    "with open(file_attention_rollout, 'w') as f:\n",
    "    pass  # Opening in 'w' mode clears the file\n",
    "\n",
    "with open(file_attention_grad_rollout, 'w') as f:\n",
    "    pass  # Opening in 'w' mode clears the file\n",
    "\n",
    "with open(file_attention_flow, 'w') as f:\n",
    "    pass  # Opening in 'w' mode clears the file"
   ]
  },
  {
   "cell_type": "code",
   "execution_count": 6,
   "metadata": {},
   "outputs": [],
   "source": [
    "path_prefix = 'images/ILSVRC2012_val_00000'\n",
    "path_suffix = '.JPEG'\n",
    "discard_ratio = 0.9\n",
    "image_size = 224\n",
    "\n",
    "def convert_number(number):\n",
    "    if number < 10:\n",
    "        return '00'+str(number)\n",
    "    if number < 100:\n",
    "        return '0'+str(number)\n",
    "    else:\n",
    "        return str(number)\n",
    "\n",
    "# img = Image.open(path_prefix + image_number_converted + path_suffix)\n",
    "\n",
    "transform = transforms.Compose([\n",
    "    transforms.Resize((image_size, image_size)),\n",
    "    transforms.ToTensor(),\n",
    "    transforms.Normalize(mean=[0.5, 0.5, 0.5], std=[0.5, 0.5, 0.5]),\n",
    "])"
   ]
  },
  {
   "cell_type": "code",
   "execution_count": 7,
   "metadata": {},
   "outputs": [
    {
     "name": "stdout",
     "output_type": "stream",
     "text": [
      "Current image being treated: 1\n"
     ]
    },
    {
     "name": "stderr",
     "output_type": "stream",
     "text": [
      "Using cache found in /users/eleves-a/2018/nicolas.lopes/.cache/torch/hub/facebookresearch_deit_main\n",
      "Using cache found in /users/eleves-a/2018/nicolas.lopes/.cache/torch/hub/facebookresearch_deit_main\n",
      "Using cache found in /users/eleves-a/2018/nicolas.lopes/.cache/torch/hub/facebookresearch_deit_main\n",
      "/Data/ml_env/miniconda3/envs/venv_ml_env/lib/python3.9/site-packages/torch/nn/modules/module.py:1352: UserWarning: Using a non-full backward hook when the forward contains multiple autograd Nodes is deprecated and will be removed in future versions. This hook will be missing some grad_input. Please use register_full_backward_hook to get the documented behavior.\n",
      "  warnings.warn(\"Using a non-full backward hook when the forward contains multiple autograd Nodes \"\n",
      "Using cache found in /users/eleves-a/2018/nicolas.lopes/.cache/torch/hub/facebookresearch_deit_main\n",
      " 13%|█▎        | 25/197 [00:54<06:12,  2.17s/it]\n"
     ]
    },
    {
     "ename": "KeyboardInterrupt",
     "evalue": "",
     "output_type": "error",
     "traceback": [
      "\u001b[0;31m---------------------------------------------------------------------------\u001b[0m",
      "\u001b[0;31mKeyboardInterrupt\u001b[0m                         Traceback (most recent call last)",
      "Cell \u001b[0;32mIn[7], line 39\u001b[0m\n\u001b[1;32m     37\u001b[0m model\u001b[39m.\u001b[39meval()\n\u001b[1;32m     38\u001b[0m attention_flow \u001b[39m=\u001b[39m VITAttentionFlow(model, discard_ratio\u001b[39m=\u001b[39mdiscard_ratio)\n\u001b[0;32m---> 39\u001b[0m mask_attention_flow \u001b[39m=\u001b[39m attention_flow\u001b[39m.\u001b[39;49mget_attention_mask(input_tensor)\u001b[39m.\u001b[39mnumpy()\n\u001b[1;32m     40\u001b[0m mask_attention_flow \u001b[39m=\u001b[39m mask_attention_flow \u001b[39m/\u001b[39m np\u001b[39m.\u001b[39mmax(mask_attention_flow)\n\u001b[1;32m     42\u001b[0m \u001b[39mwith\u001b[39;00m \u001b[39mopen\u001b[39m(file_attention_flow, \u001b[39m'\u001b[39m\u001b[39ma\u001b[39m\u001b[39m'\u001b[39m) \u001b[39mas\u001b[39;00m f:\n",
      "File \u001b[0;32m~/Project-Explainability-for-Vision-Transformers/vit_flow.py:173\u001b[0m, in \u001b[0;36mVITAttentionFlow.get_attention_mask\u001b[0;34m(self, input_tensor)\u001b[0m\n\u001b[1;32m    169\u001b[0m     output \u001b[39m=\u001b[39m \u001b[39mself\u001b[39m\u001b[39m.\u001b[39mmodel(input_tensor)\n\u001b[1;32m    171\u001b[0m a_matrices \u001b[39m=\u001b[39m compute_a_matrices(\u001b[39mself\u001b[39m\u001b[39m.\u001b[39mattentions, \u001b[39mself\u001b[39m\u001b[39m.\u001b[39mdiscard_ratio, \u001b[39mself\u001b[39m\u001b[39m.\u001b[39mhead_fusion)\n\u001b[0;32m--> 173\u001b[0m \u001b[39mreturn\u001b[39;00m attention_flow_mask(\u001b[39mself\u001b[39;49m\u001b[39m.\u001b[39;49mattentions, \u001b[39mself\u001b[39;49m\u001b[39m.\u001b[39;49mdiscard_ratio, \u001b[39mself\u001b[39;49m\u001b[39m.\u001b[39;49mhead_fusion, output_flow\u001b[39m=\u001b[39;49m\u001b[39m2.\u001b[39;49m)\n",
      "File \u001b[0;32m~/Project-Explainability-for-Vision-Transformers/vit_flow.py:126\u001b[0m, in \u001b[0;36mattention_flow_mask\u001b[0;34m(attentions, discard_ratio, head_fusion, output_flow)\u001b[0m\n\u001b[1;32m    123\u001b[0m mask \u001b[39m=\u001b[39m torch\u001b[39m.\u001b[39mTensor(np\u001b[39m.\u001b[39mzeros(n_tokens))\n\u001b[1;32m    125\u001b[0m \u001b[39mfor\u001b[39;00m n_token \u001b[39min\u001b[39;00m tqdm(\u001b[39mrange\u001b[39m(n_tokens)):\n\u001b[0;32m--> 126\u001b[0m     mask[n_token] \u001b[39m=\u001b[39m compute_flow(a_matrices, n_token, discard_ratio, output_flow)\n\u001b[1;32m    128\u001b[0m mask \u001b[39m=\u001b[39m mask[\u001b[39m1\u001b[39m:]\n\u001b[1;32m    130\u001b[0m \u001b[39mreturn\u001b[39;00m mask\n",
      "File \u001b[0;32m~/Project-Explainability-for-Vision-Transformers/vit_flow.py:85\u001b[0m, in \u001b[0;36mcompute_flow\u001b[0;34m(a_matrices, input_node, output_flow, discard_ratio)\u001b[0m\n\u001b[1;32m     82\u001b[0m weight \u001b[39m=\u001b[39m weights[idx_y]\n\u001b[1;32m     84\u001b[0m \u001b[39m# No need to create link if weight is zero\u001b[39;00m\n\u001b[0;32m---> 85\u001b[0m \u001b[39mif\u001b[39;00m weight \u001b[39m==\u001b[39;49m \u001b[39m0\u001b[39;49m: \n\u001b[1;32m     86\u001b[0m     \u001b[39mcontinue\u001b[39;00m\n\u001b[1;32m     88\u001b[0m node_number_next \u001b[39m=\u001b[39m start_node_next \u001b[39m+\u001b[39m idx_y\n",
      "\u001b[0;31mKeyboardInterrupt\u001b[0m: "
     ]
    }
   ],
   "source": [
    "for image_number in range(1,121):\n",
    "    print(f\"Current image being treated: {image_number}\")\n",
    "\n",
    "    image_number_converted = convert_number(image_number)\n",
    "    image_path = path_prefix + image_number_converted + path_suffix\n",
    "    input_tensor  = preprocess_image(image_path, transform)\n",
    "\n",
    "    # Getting idx\n",
    "    model = torch.hub.load('facebookresearch/deit:main', 'deit_tiny_patch16_224', pretrained=True)\n",
    "    model.eval()\n",
    "    model.to(DEVICE)\n",
    "    scores = model(input_tensor)\n",
    "    category_index, _ = get_prediction(scores)\n",
    "\n",
    "    # Attention Rollout\n",
    "    model = torch.hub.load('facebookresearch/deit:main', 'deit_tiny_patch16_224', pretrained=True)\n",
    "    model.eval()\n",
    "    attention_rollout = VITAttentionRollout(model, discard_ratio=discard_ratio)\n",
    "    mask_attention_rollout = attention_rollout.get_attention_mask(input_tensor).numpy()\n",
    "    mask_attention_rollout = mask_attention_rollout / np.max(mask_attention_rollout)\n",
    "    \n",
    "    with open(file_attention_rollout, 'a') as f:\n",
    "        np.savetxt(f, [mask_attention_rollout], fmt='%.3f', delimiter=',')  # Saving as float\n",
    "\n",
    "    # Gradient Attention Rollout\n",
    "    model = torch.hub.load('facebookresearch/deit:main', 'deit_tiny_patch16_224', pretrained=True)\n",
    "    model.eval()\n",
    "    attention_grad_rollout = VITAttentionGradRollout(model, discard_ratio=discard_ratio)\n",
    "    mask_attention_grad_rollout = attention_grad_rollout.get_attention_mask(input_tensor, category_index=category_index).numpy()\n",
    "    mask_attention_grad_rollout = mask_attention_grad_rollout / np.max(mask_attention_grad_rollout)\n",
    "    \n",
    "    with open(file_attention_grad_rollout, 'a') as f:\n",
    "        np.savetxt(f, [mask_attention_grad_rollout], fmt='%.3f', delimiter=',')  # Adjust format as needed\n",
    "\n",
    "    # Attention Flow\n",
    "    model = torch.hub.load('facebookresearch/deit:main', 'deit_tiny_patch16_224', pretrained=True)\n",
    "    model.eval()\n",
    "    attention_flow = VITAttentionFlow(model, discard_ratio=discard_ratio)\n",
    "    mask_attention_flow = attention_flow.get_attention_mask(input_tensor).numpy()\n",
    "    mask_attention_flow = mask_attention_flow / np.max(mask_attention_flow)\n",
    "    \n",
    "    with open(file_attention_flow, 'a') as f:\n",
    "        np.savetxt(f, [mask_attention_flow], fmt='%.3f', delimiter=',')  # Adjust format as needed\n",
    "    "
   ]
  },
  {
   "cell_type": "code",
   "execution_count": null,
   "metadata": {},
   "outputs": [],
   "source": []
  },
  {
   "cell_type": "code",
   "execution_count": null,
   "metadata": {},
   "outputs": [],
   "source": []
  },
  {
   "cell_type": "code",
   "execution_count": null,
   "metadata": {},
   "outputs": [],
   "source": []
  },
  {
   "cell_type": "code",
   "execution_count": null,
   "metadata": {},
   "outputs": [],
   "source": []
  },
  {
   "cell_type": "code",
   "execution_count": 4,
   "metadata": {},
   "outputs": [],
   "source": [
    "# import requests\n",
    "# import torch.nn.functional as F\n",
    "\n",
    "# LABELS_URL = 'https://s3.amazonaws.com/deep-learning-models/image-models/imagenet_class_index.json'\n",
    "# classes = {int(key): value for (key, value) in requests.get(LABELS_URL).json().items()}"
   ]
  },
  {
   "cell_type": "code",
   "execution_count": 6,
   "metadata": {},
   "outputs": [],
   "source": [
    "# input_tensor  = preprocess_image(\"examples/input.png\", transform)\n",
    "# scores = model(input_tensor)\n",
    "\n",
    "# def print_preds(scores):\n",
    "#     # print the predictions with their 'probabilities' from the scores\n",
    "#     h_x = F.softmax(scores, dim=1).data.squeeze()\n",
    "#     probs, idx = h_x.sort(0, True)\n",
    "#     probs = probs.numpy()\n",
    "#     idx = idx.numpy()\n",
    "#     # output the prediction\n",
    "#     for i in range(0, 5):\n",
    "#         print('{:.3f} -> {}'.format(probs[i], classes[idx[i]]))\n",
    "#     return idx\n",
    "\n",
    "# def get_prediction(scores):\n",
    "#     '''Gets the index of max prob and the prob\n",
    "#     '''\n",
    "#     h_x = F.softmax(scores, dim=1).data.squeeze()\n",
    "#     probs, idx = h_x.sort(0, True)\n",
    "#     # output the prediction\n",
    "#     return idx[0].item(), probs[0].item()\n",
    "\n",
    "# idx, prob = get_prediction(scores)"
   ]
  }
 ],
 "metadata": {
  "kernelspec": {
   "display_name": "venv_ml_env",
   "language": "python",
   "name": "python3"
  },
  "language_info": {
   "codemirror_mode": {
    "name": "ipython",
    "version": 3
   },
   "file_extension": ".py",
   "mimetype": "text/x-python",
   "name": "python",
   "nbconvert_exporter": "python",
   "pygments_lexer": "ipython3",
   "version": "3.9.18"
  },
  "orig_nbformat": 4
 },
 "nbformat": 4,
 "nbformat_minor": 2
}
